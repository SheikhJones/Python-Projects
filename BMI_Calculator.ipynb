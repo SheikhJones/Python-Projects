{
  "nbformat": 4,
  "nbformat_minor": 0,
  "metadata": {
    "colab": {
      "provenance": [],
      "authorship_tag": "ABX9TyNY84phVT3Kd866yrqOlZn4",
      "include_colab_link": true
    },
    "kernelspec": {
      "name": "python3",
      "display_name": "Python 3"
    },
    "language_info": {
      "name": "python"
    }
  },
  "cells": [
    {
      "cell_type": "markdown",
      "metadata": {
        "id": "view-in-github",
        "colab_type": "text"
      },
      "source": [
        "<a href=\"https://colab.research.google.com/github/SheikhJones/Python-Projects/blob/main/BMI_Calculator.ipynb\" target=\"_parent\"><img src=\"https://colab.research.google.com/assets/colab-badge.svg\" alt=\"Open In Colab\"/></a>"
      ]
    },
    {
      "cell_type": "code",
      "execution_count": 4,
      "metadata": {
        "colab": {
          "base_uri": "https://localhost:8080/"
        },
        "id": "sFW3ilIdrp_o",
        "outputId": "dd068ba8-656a-438e-feac-d48de741c22b"
      },
      "outputs": [
        {
          "output_type": "stream",
          "name": "stdout",
          "text": [
            "Welcome to the BMI Calculator\n",
            "-----------------------------\n",
            "What's your name? Umair\n",
            "Enter your weight in kilograms: 75\n",
            "Enter your height in inches: 67\n",
            "Hello, Umair! Your BMI is: 11.75\n",
            "Weight status: Underweight\n",
            "You are within a healthy weight range. Keep up the good work!\n"
          ]
        }
      ],
      "source": [
        "import math\n",
        "\n",
        "class BMIcalculator:\n",
        "    def __init__(self):\n",
        "        pass\n",
        "\n",
        "    @staticmethod\n",
        "    def get_user_input():\n",
        "        \"\"\"\n",
        "        Get user input for name, weight, and height.\n",
        "        \"\"\"\n",
        "        while True:\n",
        "            name = input(\"What's your name? \").strip()\n",
        "            if name:\n",
        "                break\n",
        "            else:\n",
        "                print(\"Please enter a valid name.\")\n",
        "\n",
        "        while True:\n",
        "            try:\n",
        "                weight = float(input(\"Enter your weight in kilograms: \"))\n",
        "                height = float(input(\"Enter your height in inches: \"))\n",
        "                if weight <= 0 or height <= 0:\n",
        "                    raise ValueError(\"Weight and height must be positive numbers.\")\n",
        "                break\n",
        "            except ValueError as e:\n",
        "                print(\"Invalid input. Please enter a valid number.\")\n",
        "\n",
        "        return name, weight, height\n",
        "\n",
        "    @staticmethod\n",
        "    def calculate_bmi(weight, height):\n",
        "        \"\"\"\n",
        "        Calculate BMI (Body Mass Index) given weight in kilograms and height in inches.\n",
        "        Formula: BMI = (weight / (height^2)) * 703 (as height is in inches)\n",
        "        \"\"\"\n",
        "        bmi = (weight / (height ** 2)) * 703\n",
        "        return bmi\n",
        "\n",
        "    @staticmethod\n",
        "    def interpret_bmi(bmi):\n",
        "        \"\"\"\n",
        "        Interpret BMI and provide weight status.\n",
        "        \"\"\"\n",
        "        if bmi < 18.5:\n",
        "            return \"Underweight\"\n",
        "        elif 18.5 <= bmi < 25:\n",
        "            return \"Normal weight\"\n",
        "        elif 25 <= bmi < 30:\n",
        "            return \"Overweight\"\n",
        "        else:\n",
        "            return \"Obese\"\n",
        "\n",
        "    @staticmethod\n",
        "    def suggest_guidance(bmi):\n",
        "        \"\"\"\n",
        "        Suggest guidance for overweight users.\n",
        "        \"\"\"\n",
        "        if bmi >= 25:\n",
        "            guidance = \"You are in the overweight range. It's recommended to consult with a healthcare professional for guidance on a suitable diet and exercise plan.\"\n",
        "        else:\n",
        "            guidance = \"You are within a healthy weight range. Keep up the good work!\"\n",
        "        return guidance\n",
        "\n",
        "    def run(self):\n",
        "        print(\"Welcome to the BMI Calculator\")\n",
        "        print(\"-----------------------------\")\n",
        "        name, weight, height = self.get_user_input()\n",
        "        bmi = self.calculate_bmi(weight, height)\n",
        "        print(f\"Hello, {name}! Your BMI is: {bmi:.2f}\")\n",
        "        print(\"Weight status:\", self.interpret_bmi(bmi))\n",
        "        print(self.suggest_guidance(bmi))\n",
        "\n",
        "\n",
        "if __name__ == \"__main__\":\n",
        "    bmi_calculator = BMIcalculator()\n",
        "    bmi_calculator.run()\n"
      ]
    },
    {
      "cell_type": "code",
      "source": [],
      "metadata": {
        "id": "7sS-8oOwrqrF"
      },
      "execution_count": null,
      "outputs": []
    },
    {
      "cell_type": "code",
      "source": [],
      "metadata": {
        "id": "6JxUN-tRrqt1"
      },
      "execution_count": null,
      "outputs": []
    },
    {
      "cell_type": "code",
      "source": [],
      "metadata": {
        "id": "8xeLjGBdrqwW"
      },
      "execution_count": null,
      "outputs": []
    },
    {
      "cell_type": "code",
      "source": [],
      "metadata": {
        "id": "14YNTGpwrqzE"
      },
      "execution_count": null,
      "outputs": []
    },
    {
      "cell_type": "code",
      "source": [],
      "metadata": {
        "id": "cuclKKLMrq1l"
      },
      "execution_count": null,
      "outputs": []
    }
  ]
}